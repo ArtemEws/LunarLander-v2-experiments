{
  "nbformat": 4,
  "nbformat_minor": 0,
  "metadata": {
    "colab": {
      "name": "Img_3-DeepMindExp_LunarLander-v2.ipynb",
      "version": "0.3.2",
      "provenance": [],
      "collapsed_sections": []
    },
    "kernelspec": {
      "name": "python3",
      "display_name": "Python 3"
    },
    "accelerator": "GPU"
  },
  "cells": [
    {
      "metadata": {
        "id": "ViW-Sp9nLC5n",
        "colab_type": "code",
        "outputId": "13f60d87-a493-4068-bf37-076a8d811b88",
        "colab": {
          "base_uri": "https://localhost:8080/",
          "height": 982
        }
      },
      "cell_type": "code",
      "source": [
        "%matplotlib inline\n",
        "!pip install gym\n",
        "!pip install box2d-py\n",
        "!pip install pyvirtualdisplay\n",
        "\n",
        "!sudo apt-get install xvfb"
      ],
      "execution_count": 3,
      "outputs": [
        {
          "output_type": "stream",
          "text": [
            "Requirement already satisfied: gym in /usr/local/lib/python3.6/dist-packages (0.10.11)\n",
            "Requirement already satisfied: scipy in /usr/local/lib/python3.6/dist-packages (from gym) (1.1.0)\n",
            "Requirement already satisfied: numpy>=1.10.4 in /usr/local/lib/python3.6/dist-packages (from gym) (1.14.6)\n",
            "Requirement already satisfied: requests>=2.0 in /usr/local/lib/python3.6/dist-packages (from gym) (2.18.4)\n",
            "Requirement already satisfied: six in /usr/local/lib/python3.6/dist-packages (from gym) (1.11.0)\n",
            "Requirement already satisfied: pyglet>=1.2.0 in /usr/local/lib/python3.6/dist-packages (from gym) (1.3.2)\n",
            "Requirement already satisfied: urllib3<1.23,>=1.21.1 in /usr/local/lib/python3.6/dist-packages (from requests>=2.0->gym) (1.22)\n",
            "Requirement already satisfied: idna<2.7,>=2.5 in /usr/local/lib/python3.6/dist-packages (from requests>=2.0->gym) (2.6)\n",
            "Requirement already satisfied: certifi>=2017.4.17 in /usr/local/lib/python3.6/dist-packages (from requests>=2.0->gym) (2019.3.9)\n",
            "Requirement already satisfied: chardet<3.1.0,>=3.0.2 in /usr/local/lib/python3.6/dist-packages (from requests>=2.0->gym) (3.0.4)\n",
            "Requirement already satisfied: future in /usr/local/lib/python3.6/dist-packages (from pyglet>=1.2.0->gym) (0.16.0)\n",
            "Collecting box2d-py\n",
            "\u001b[?25l  Downloading https://files.pythonhosted.org/packages/06/bd/6cdc3fd994b0649dcf5d9bad85bd9e26172308bbe9a421bfc6fdbf5081a6/box2d_py-2.3.8-cp36-cp36m-manylinux1_x86_64.whl (448kB)\n",
            "\u001b[K    100% |████████████████████████████████| 450kB 10.4MB/s \n",
            "\u001b[?25hInstalling collected packages: box2d-py\n",
            "Successfully installed box2d-py-2.3.8\n",
            "Collecting pyvirtualdisplay\n",
            "  Downloading https://files.pythonhosted.org/packages/39/37/f285403a09cc261c56b6574baace1bdcf4b8c7428c8a7239cbba137bc0eb/PyVirtualDisplay-0.2.1.tar.gz\n",
            "Collecting EasyProcess (from pyvirtualdisplay)\n",
            "  Downloading https://files.pythonhosted.org/packages/45/3a/4eecc0c7995a13a64739bbedc0d3691fc574245b7e79cff81905aa0c2b38/EasyProcess-0.2.5.tar.gz\n",
            "Building wheels for collected packages: pyvirtualdisplay, EasyProcess\n",
            "  Building wheel for pyvirtualdisplay (setup.py) ... \u001b[?25ldone\n",
            "\u001b[?25h  Stored in directory: /root/.cache/pip/wheels/d1/8c/16/1c64227974ae29c687e4cc30fd691d5c0fd40f54446dde99da\n",
            "  Building wheel for EasyProcess (setup.py) ... \u001b[?25ldone\n",
            "\u001b[?25h  Stored in directory: /root/.cache/pip/wheels/41/22/19/af15ef6264c58b625a82641ed7483ad05e258fbd8925505227\n",
            "Successfully built pyvirtualdisplay EasyProcess\n",
            "Installing collected packages: EasyProcess, pyvirtualdisplay\n",
            "Successfully installed EasyProcess-0.2.5 pyvirtualdisplay-0.2.1\n",
            "Reading package lists... Done\n",
            "Building dependency tree       \n",
            "Reading state information... Done\n",
            "The following package was automatically installed and is no longer required:\n",
            "  libnvidia-common-410\n",
            "Use 'sudo apt autoremove' to remove it.\n",
            "The following NEW packages will be installed:\n",
            "  xvfb\n",
            "0 upgraded, 1 newly installed, 0 to remove and 6 not upgraded.\n",
            "Need to get 783 kB of archives.\n",
            "After this operation, 2,266 kB of additional disk space will be used.\n",
            "Get:1 http://archive.ubuntu.com/ubuntu bionic-updates/universe amd64 xvfb amd64 2:1.19.6-1ubuntu4.2 [783 kB]\n",
            "Fetched 783 kB in 2s (340 kB/s)\n",
            "debconf: unable to initialize frontend: Dialog\n",
            "debconf: (No usable dialog-like program is installed, so the dialog based frontend cannot be used. at /usr/share/perl5/Debconf/FrontEnd/Dialog.pm line 76, <> line 1.)\n",
            "debconf: falling back to frontend: Readline\n",
            "debconf: unable to initialize frontend: Readline\n",
            "debconf: (This frontend requires a controlling tty.)\n",
            "debconf: falling back to frontend: Teletype\n",
            "dpkg-preconfigure: unable to re-open stdin: \n",
            "Selecting previously unselected package xvfb.\n",
            "(Reading database ... 131304 files and directories currently installed.)\n",
            "Preparing to unpack .../xvfb_2%3a1.19.6-1ubuntu4.2_amd64.deb ...\n",
            "Unpacking xvfb (2:1.19.6-1ubuntu4.2) ...\n",
            "Setting up xvfb (2:1.19.6-1ubuntu4.2) ...\n",
            "Processing triggers for man-db (2.8.3-2ubuntu0.1) ...\n"
          ],
          "name": "stdout"
        }
      ]
    },
    {
      "metadata": {
        "id": "8nYy_JHbLC5q",
        "colab_type": "code",
        "colab": {}
      },
      "cell_type": "code",
      "source": [
        "import gym\n",
        "import math\n",
        "import random\n",
        "import numpy as np\n",
        "import matplotlib\n",
        "import matplotlib.pyplot as plt\n",
        "from collections import namedtuple, deque\n",
        "from itertools import count\n",
        "from PIL import Image\n",
        "import os\n",
        "import time\n",
        "\n",
        "import torch\n",
        "import torch.nn as nn\n",
        "import torch.optim as optim\n",
        "import torch.nn.functional as F\n",
        "import torchvision.transforms as T\n",
        "\n",
        "from pyvirtualdisplay import Display\n",
        "\n",
        "gym.logger.set_level(40)\n",
        "\n",
        "env = gym.make('LunarLander-v2').unwrapped\n",
        "env.seed(0)\n",
        "# set up matplotlib\n",
        "is_ipython = 'inline' in matplotlib.get_backend()\n",
        "if is_ipython:\n",
        "    from IPython import display\n",
        "\n",
        "plt.ion()\n",
        "\n",
        "display = Display(visible=0, size=(1400, 900))\n",
        "display.start()\n",
        "\n",
        "# if gpu is to be used\n",
        "device = torch.device(\"cuda\" if torch.cuda.is_available() else \"cpu\")"
      ],
      "execution_count": 0,
      "outputs": []
    },
    {
      "metadata": {
        "id": "qhcDWLhxLC5t",
        "colab_type": "code",
        "colab": {}
      },
      "cell_type": "code",
      "source": [
        "class ReplayMemory:\n",
        "\n",
        "    def __init__(self, buffer_size, batch_size, seed):\n",
        "\n",
        "        self.memory = deque(maxlen=buffer_size)  \n",
        "        self.batch_size = batch_size\n",
        "        self.experience = namedtuple(\"Experience\", field_names=[\"state\", \"action\", \"next_state\", \"reward\", \"done\"])\n",
        "        self.seed = random.seed(seed)\n",
        "    \n",
        "    def push(self, state, action, next_state, reward, done):\n",
        "\n",
        "        e = self.experience(state, action, next_state, reward, done)\n",
        "        self.memory.append(e)\n",
        "    \n",
        "    def sample(self):\n",
        "\n",
        "        experiences = random.sample(self.memory, k=self.batch_size)\n",
        "\n",
        "        states = torch.from_numpy(np.vstack([e.state for e in experiences if e is not None])).float()\n",
        "        actions = torch.from_numpy(np.vstack([e.action for e in experiences if e is not None])).long()\n",
        "        next_states = torch.from_numpy(np.vstack([e.next_state for e in experiences if e is not None])).float()\n",
        "        rewards = torch.from_numpy(np.vstack([e.reward for e in experiences if e is not None])).float()\n",
        "        dones = torch.from_numpy(np.vstack([e.done for e in experiences if e is not None]).astype(np.uint8)).float()\n",
        "                                  \n",
        "        return (states, actions, next_states, rewards, dones)\n",
        "\n",
        "    def __len__(self):\n",
        "\n",
        "        return len(self.memory)"
      ],
      "execution_count": 0,
      "outputs": []
    },
    {
      "metadata": {
        "id": "RkX8mPKoLC5v",
        "colab_type": "code",
        "colab": {}
      },
      "cell_type": "code",
      "source": [
        "class DQN(nn.Module):\n",
        "\n",
        "    def __init__(self, h, w):\n",
        "      \n",
        "        super(DQN, self).__init__()  \n",
        "        self.layer1   = nn.Sequential(nn.Conv2d(3, 16, 5, stride=2),\\\n",
        "                                      nn.BatchNorm2d(16),\\\n",
        "                                      nn.ReLU())\n",
        "        \n",
        "        self.layer2   = nn.Sequential(nn.Conv2d(16, 32, 5, stride=2),\\\n",
        "                                      nn.BatchNorm2d(32),\n",
        "                                      nn.ReLU())\n",
        "        \n",
        "        self.layer3   = nn.Sequential(nn.Conv2d(32, 32, 5, stride=2),\\\n",
        "                                      nn.BatchNorm2d(32),\\\n",
        "                                      nn.ReLU(),\\\n",
        "                                      nn.MaxPool2d(kernel_size=2))\n",
        "        \n",
        "        self.layer4   = nn.Sequential(nn.Dropout() ,\\\n",
        "                                      nn.Linear(3585, 1024),\\\n",
        "                                      nn.ReLU()) \n",
        "        \n",
        "        self.layer5   = nn.Sequential(nn.Linear(1024, 4),\\\n",
        "                                      nn.Softmax())\n",
        "        \n",
        "        self.layer_a  = nn.Sequential(nn.Linear(4, 1),\\\n",
        "                                      nn.ReLU()) \n",
        "        \n",
        "    def forward(self, x, a):\n",
        "#         print(x, a)\n",
        "        \n",
        "        out = self.layer1(x.to(device))\n",
        "        out = self.layer2(out)\n",
        "        out = self.layer3(out)\n",
        "        out = out.reshape(out.size(0), -1)\n",
        "        \n",
        "        a   = self.layer_a(torch.FloatTensor(np.array(a)/4).to(device))\n",
        "        if(a.shape[0]==BATCH_SIZE):\n",
        "            out = torch.cat((out, a), 1)\n",
        "        else:\n",
        "            out = torch.cat((out[0], a), 0)\n",
        "            \n",
        "        out = self.layer4(out)\n",
        "        out = self.layer5(out)\n",
        "        \n",
        "        return out"
      ],
      "execution_count": 0,
      "outputs": []
    },
    {
      "metadata": {
        "id": "VGRSOwgvLC5x",
        "colab_type": "code",
        "outputId": "e3eb4eb1-3d80-46a5-e0ec-4bfb1c7544c4",
        "colab": {
          "base_uri": "https://localhost:8080/",
          "height": 316
        }
      },
      "cell_type": "code",
      "source": [
        "resize = T.Compose([T.ToPILImage(),\n",
        "                    T.Resize(100, interpolation=Image.CUBIC),\n",
        "                    T.ToTensor()])\n",
        "\n",
        "def get_screen():\n",
        "    \n",
        "    screen = env.render(mode='rgb_array').transpose((2, 0, 1))\n",
        "    _, screen_height, screen_width = screen.shape\n",
        "    \n",
        "    \n",
        "    screen = np.ascontiguousarray(screen, dtype=np.float32) / 255\n",
        "    screen = torch.from_numpy(screen)\n",
        "    new_screen = resize(screen)\n",
        "    \n",
        "    fin_screen = new_screen[:, :85]\n",
        "\n",
        "    return fin_screen.unsqueeze(0).to(device)\n",
        "\n",
        "\n",
        "env.reset()\n",
        "screen = get_screen()\n",
        "plt.figure()\n",
        "plt.imshow(screen.cpu().squeeze(0).permute(1, 2, 0).numpy(),\n",
        "           interpolation='none')\n",
        "plt.title('Example extracted screen')\n",
        "plt.show()"
      ],
      "execution_count": 4,
      "outputs": [
        {
          "output_type": "display_data",
          "data": {
            "image/png": "[encoded data removed]",
            "text/plain": [
              "<Figure size 576x396 with 1 Axes>"
            ]
          },
          "metadata": {
            "tags": []
          }
        }
      ]
    },
    {
      "metadata": {
        "id": "7YXAzlcOLC51",
        "colab_type": "code",
        "colab": {}
      },
      "cell_type": "code",
      "source": [
        "BATCH_SIZE = 64\n",
        "GAMMA = 0.999\n",
        "EPS_START = 0.9\n",
        "EPS_END = 0.05\n",
        "EPS_DECAY = 500\n",
        "TARGET_UPDATE = 1\n",
        "SEED = 0\n",
        "MEMORY_SIZE = int(10e5)\n",
        "TAU = 0.05\n",
        "POLYAK = 1 - TAU\n",
        "LR = .0016\n",
        "\n",
        "# Get screen size so that we can initialize layers correctly based on shape\n",
        "# returned from AI gym. Typical dimensions at this point are close to 3x40x90\n",
        "# which is the result of a clamped and down-scaled render buffer in get_screen()\n",
        "init_screen = get_screen()\n",
        "state = torch.cat([init_screen, init_screen, init_screen], 2)\n",
        "_, _, screen_height, screen_width = init_screen.shape\n",
        "policy_net = DQN(screen_height, screen_width).to(device)\n",
        "target_net = DQN(screen_height, screen_width).to(device)\n",
        "\n",
        "try:\n",
        "  policy_net.load_state_dict(torch.load(\"./policy.nn\", map_location=device))\n",
        "except:\n",
        "  print(\"There isnt old weights\")\n",
        "  \n",
        "target_net.load_state_dict(policy_net.state_dict())\n",
        "target_net.eval()\n",
        "\n",
        "optimizer = optim.RMSprop(policy_net.parameters(), LR)\n",
        "memory = ReplayMemory(MEMORY_SIZE, BATCH_SIZE, SEED)\n",
        "\n",
        "def select_action(state, i, actions):\n",
        "    sample = random.random()\n",
        "    \n",
        "    if(i<10):\n",
        "        return torch.tensor([[random.randrange(4)]], device=device, dtype=torch.long)\n",
        "      \n",
        "    eps_threshold = EPS_END + (EPS_START - EPS_END) * \\\n",
        "                    math.exp(-1. * i / EPS_DECAY)\n",
        "    if sample > eps_threshold :\n",
        "        with torch.no_grad():\n",
        "            # t.max(1) will return largest column value of each row.\n",
        "            # second column on max result is index of where max element was\n",
        "            # found, so we pick action with the larger expected reward.\n",
        "            return policy_net(state, actions).max(0)[1].view(1, 1)\n",
        "    else:\n",
        "        return torch.tensor([[random.randrange(4)]], device=device, dtype=torch.long)\n",
        "      \n",
        "def good_action(state, actions):\n",
        "    with torch.no_grad():\n",
        "        # t.max(1) will return largest column value of each row.\n",
        "        # second column on max result is index of where max element was\n",
        "        # found, so we pick action with the larger expected reward.\n",
        "        return policy_net(state, actions).max(0)[1].view(1, 1)\n",
        "      \n",
        "def test():\n",
        "    test_rewards = []\n",
        "    for i in range(100):\n",
        "        env.reset()\n",
        "        current_screen = get_screen()\n",
        "    \n",
        "        state = current_screen - current_screen\n",
        "    \n",
        "        done = False\n",
        "        reward = 0\n",
        "        rew_per_episode = 0\n",
        "        for j in count():\n",
        "          \n",
        "            action = good_action(state)\n",
        "            _, reward, done, _ = env.step(action.item())\n",
        "        \n",
        "            rew_per_episode += reward\n",
        "\n",
        "            # Observe new state\n",
        "            last_screen = current_screen\n",
        "            current_screen = get_screen()\n",
        "\n",
        "            if not done:\n",
        "                next_state = last_screen - current_screen\n",
        "            else:\n",
        "                next_state = state\n",
        "            memory.push(state, action, next_state, reward, done)\n",
        "\n",
        "            # Move to the next state\n",
        "            state = next_state\n",
        "            # Perform one step of the optimization (on the target network)\n",
        "            if done:\n",
        "                break\n",
        "        test_rewards.append(rew_per_episode)       \n",
        "    return np.mean(test_rewards)"
      ],
      "execution_count": 0,
      "outputs": []
    },
    {
      "metadata": {
        "id": "TsUPaTP0LC53",
        "colab_type": "code",
        "colab": {}
      },
      "cell_type": "code",
      "source": [
        "def optimize_model():\n",
        "    \n",
        "    experiences = memory.sample()\n",
        "    states, actions4, next_states, rewards, dones = experiences\n",
        "    \n",
        "    actions = actions4.reshape(4, 64)[0]\n",
        "\n",
        "    Q_argmax = target_net(torch.FloatTensor(next_states).to(device), actions4).detach()\n",
        "    _, a_prime = Q_argmax.max(1)\n",
        "  \n",
        "    Q_targets_next = target_net(torch.FloatTensor(next_states).to(device), actions4).detach().gather(1, a_prime.unsqueeze(1))\n",
        "    \n",
        "    Q_targets = torch.FloatTensor(rewards).to(device) + (GAMMA * Q_targets_next * (1 - torch.FloatTensor(dones).to(device)))\n",
        "  \n",
        "    Q_expected = policy_net( torch.FloatTensor(states).to(device), actions4)\n",
        "    \n",
        "    loss = F.mse_loss(Q_targets, Q_expected.gather(1, torch.LongTensor(actions.reshape(64,1)).to(device)))\n",
        "\n",
        "    optimizer.zero_grad()\n",
        "    loss.backward()\n",
        "    optimizer.step()"
      ],
      "execution_count": 0,
      "outputs": []
    },
    {
      "metadata": {
        "scrolled": true,
        "id": "wUG3RJbALC57",
        "colab_type": "code",
        "outputId": "cf12d4a6-b490-4568-a177-2759bd5bdae7",
        "colab": {
          "base_uri": "https://localhost:8080/",
          "height": 125
        }
      },
      "cell_type": "code",
      "source": [
        "num_episodes = 100\n",
        "passed = 0\n",
        "plt.figure()\n",
        "reward_sum = 0\n",
        "rew_max = -999999\n",
        "lr=LR\n",
        "tracked_rewards = []\n",
        "for i_episode in count():\n",
        "    # Initialize the environment and state\n",
        "    env.reset()\n",
        "    screen1 = get_screen()\n",
        "    screen2 = screen1\n",
        "    screen3 = screen2\n",
        "    actions = [0 ,0, 0, 0]\n",
        "    state = torch.cat([screen1, screen2, screen3], 2).cpu()\n",
        "    \n",
        "    done = False\n",
        "    reward = 0\n",
        "    rew_per_episode = 0\n",
        "    for t in count():\n",
        "        # Select and perform an action\n",
        "        action = select_action(state, i_episode, actions)\n",
        "        _, reward, done, _ = env.step(action.item())\n",
        "        \n",
        "        rew_per_episode += reward\n",
        "\n",
        "        # Observe new state\n",
        "        screen4 = get_screen()\n",
        "        \n",
        "        if not done:\n",
        "            next_state = torch.cat([screen2, screen3, screen4], 2).cpu()\n",
        "        else:\n",
        "            next_state = state\n",
        "        \n",
        "        actions = [actions[1],\\\n",
        "                   actions[2],\\\n",
        "                   actions[3],\\\n",
        "                   action.item()]\n",
        "        \n",
        "        memory.push(state.cpu(), actions, next_state, reward, done)\n",
        "        \n",
        "        # Move to the next state\n",
        "        state = next_state\n",
        "        screen1 = screen2\n",
        "        screen2 = screen3\n",
        "        screen3 = screen4\n",
        "        # Perform one step of the optimization (on the target network)\n",
        "        if(BATCH_SIZE<=len(memory)):\n",
        "            optimize_model()\n",
        "        if done:\n",
        "            tracked_rewards.append(rew_per_episode)\n",
        "            break\n",
        "            \n",
        "    # Update the target network, copying all weights and biases in DQN\n",
        "        if(t%4==0):\n",
        "            for param, target_param in zip(policy_net.parameters(), target_net.parameters()):\n",
        "                target_param.data.copy_( (POLYAK * target_param.data) + ((1 - POLYAK) * param.data))\n",
        "    \n",
        "    print('\\rEpisode {} \\tLearning rate {:.6f} \\tAverage Score: {:.2f}'.format(i_episode+1, lr, np.mean(tracked_rewards)), end=\"\")\n",
        "    \n",
        "    if((i_episode+1)%100==0):\n",
        "      \n",
        "        print('\\rEpisode {} \\tLearning rate {:.6f} \\tAverage Score: {:.2f}'.format(i_episode+1, lr, np.mean(tracked_rewards)))\n",
        "\n",
        "        torch.save(policy_net.state_dict(), \"policy.nn\")\n",
        "        \n",
        "        lr=LR/(i_episode+1)*100\n",
        "        optimizer = optim.Adam(policy_net.parameters(), lr=lr)\n",
        "\n",
        "        if(np.mean(tracked_rewards)>=195):\n",
        "            test_count = 0\n",
        "            for seed in [135, 6589, 5]:\n",
        "                env.seed(seed)\n",
        "                test_mark = test()\n",
        "                print(test_mark)\n",
        "                if(test_mark>=195):\n",
        "                    test_count+=1\n",
        "                if(test_count>2):\n",
        "                    break\n",
        "        tracked_rewards = []\n",
        "env.close()\n",
        "plt.figure\n",
        "plt.show() "
      ],
      "execution_count": 0,
      "outputs": [
        {
          "output_type": "stream",
          "text": [
            "/usr/local/lib/python3.6/dist-packages/torch/nn/modules/container.py:92: UserWarning: Implicit dimension choice for softmax has been deprecated. Change the call to include dim=X as an argument.\n",
            "  input = module(input)\n"
          ],
          "name": "stderr"
        },
        {
          "output_type": "stream",
          "text": [
            "Episode 100 \tLearning rate 0.001600 \tAverage Score: -165.61\n",
            "Episode 200 \tLearning rate 0.001600 \tAverage Score: -155.34\n",
            "Episode 252 \tLearning rate 0.000800 \tAverage Score: -165.31"
          ],
          "name": "stdout"
        }
      ]
    },
    {
      "metadata": {
        "id": "awiTvnkiLC5-",
        "colab_type": "code",
        "outputId": "89dc4f8a-6b5d-49d8-86e0-9224a7621a31",
        "colab": {
          "base_uri": "https://localhost:8080/",
          "height": 166
        }
      },
      "cell_type": "code",
      "source": [
        "print(np.mean(tracked_rewards))"
      ],
      "execution_count": 0,
      "outputs": [
        {
          "output_type": "error",
          "ename": "NameError",
          "evalue": "ignored",
          "traceback": [
            "\u001b[0;31m---------------------------------------------------------------------------\u001b[0m",
            "\u001b[0;31mNameError\u001b[0m                                 Traceback (most recent call last)",
            "\u001b[0;32m<ipython-input-1-76ad6cdc386e>\u001b[0m in \u001b[0;36m<module>\u001b[0;34m()\u001b[0m\n\u001b[0;32m----> 1\u001b[0;31m \u001b[0mprint\u001b[0m\u001b[0;34m(\u001b[0m\u001b[0mnp\u001b[0m\u001b[0;34m.\u001b[0m\u001b[0mmean\u001b[0m\u001b[0;34m(\u001b[0m\u001b[0mtracked_rewards\u001b[0m\u001b[0;34m)\u001b[0m\u001b[0;34m)\u001b[0m\u001b[0;34m\u001b[0m\u001b[0;34m\u001b[0m\u001b[0m\n\u001b[0m",
            "\u001b[0;31mNameError\u001b[0m: name 'np' is not defined"
          ]
        }
      ]
    },
    {
      "metadata": {
        "id": "dpH4_ePFLC6A",
        "colab_type": "code",
        "colab": {}
      },
      "cell_type": "code",
      "source": [
        "def good_action(state):\n",
        "    with torch.no_grad():\n",
        "        # t.max(1) will return largest column value of each row.\n",
        "        # second column on max result is index of where max element was\n",
        "        # found, so we pick action with the larger expected reward.\n",
        "        return policy_net(state).max(1)[1].view(1, 1)\n",
        "      \n",
        "def test():\n",
        "    test_rewards = []\n",
        "    for i in range(100):\n",
        "        env.reset()\n",
        "        current_screen = get_screen()\n",
        "    \n",
        "        state = current_screen - current_screen\n",
        "    \n",
        "        done = False\n",
        "        reward = 0\n",
        "        rew_per_episode = 0\n",
        "        for j in count():\n",
        "          \n",
        "            action = good_action(state)\n",
        "            _, reward, done, _ = env.step(action.item())\n",
        "        \n",
        "            rew_per_episode += reward\n",
        "\n",
        "            # Observe new state\n",
        "            last_screen = current_screen\n",
        "            current_screen = get_screen()\n",
        "\n",
        "            if not done:\n",
        "                next_state = last_screen - current_screen\n",
        "            else:\n",
        "                next_state = state\n",
        "    \n",
        "            memory.push(state, action, next_state, reward, done)\n",
        "\n",
        "            # Move to the next state\n",
        "            state = next_state\n",
        "            # Perform one step of the optimization (on the target network)\n",
        "            if done:\n",
        "                break\n",
        "        test_rewards.append(rew_per_episode)       \n",
        "    return np.mean(test_rewards)"
      ],
      "execution_count": 0,
      "outputs": []
    },
    {
      "metadata": {
        "id": "9mjKgkkB_1DG",
        "colab_type": "code",
        "outputId": "235c311a-4b78-4b98-f80d-734bdf350098",
        "colab": {
          "base_uri": "https://localhost:8080/",
          "height": 90
        }
      },
      "cell_type": "code",
      "source": [
        "test()"
      ],
      "execution_count": 0,
      "outputs": [
        {
          "output_type": "stream",
          "text": [
            "/usr/local/lib/python3.6/dist-packages/torch/nn/modules/container.py:92: UserWarning: Implicit dimension choice for softmax has been deprecated. Change the call to include dim=X as an argument.\n",
            "  input = module(input)\n"
          ],
          "name": "stderr"
        },
        {
          "output_type": "execute_result",
          "data": {
            "text/plain": [
              "-434.45062135944676"
            ]
          },
          "metadata": {
            "tags": []
          },
          "execution_count": 18
        }
      ]
    },
    {
      "metadata": {
        "id": "MZL6kZ0pCgo6",
        "colab_type": "code",
        "outputId": "881c197d-e691-4c62-dc5c-60953ddca6f5",
        "colab": {
          "base_uri": "https://localhost:8080/",
          "height": 35
        }
      },
      "cell_type": "code",
      "source": [
        "device"
      ],
      "execution_count": 0,
      "outputs": [
        {
          "output_type": "execute_result",
          "data": {
            "text/plain": [
              "device(type='cuda')"
            ]
          },
          "metadata": {
            "tags": []
          },
          "execution_count": 9
        }
      ]
    },
    {
      "metadata": {
        "id": "IMkbaYSyDQfn",
        "colab_type": "code",
        "colab": {}
      },
      "cell_type": "code",
      "source": [
        ""
      ],
      "execution_count": 0,
      "outputs": []
    }
  ]
}